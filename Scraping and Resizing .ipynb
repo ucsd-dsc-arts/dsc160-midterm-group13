{
 "cells": [
  {
   "cell_type": "markdown",
   "metadata": {},
   "source": [
    "Need to first have the base website for each movie (could be manually copy paste), dowloading 10 images for 10 scenese. Also, best not scrape 4k images cause it takes too long. Even for non4k image, size is (808, 1920, 3), so better resize the images before features extraction\n",
    "\n",
    "to find the sample image page, go to https://animationscreencaps.com/ and pick a movie, click a rondom image and right click and select copy image path. The path should be sth like this, and replace the number before '.jpg' could get different caps in this movie. Typically it is ordered.\n",
    "https://i0.wp.com/caps.pictures/201/4k-spidermaninto/full/4k-spidermaninto-animationscreencaps.com-185.jpg?zoom=1.25&strip=all"
   ]
  },
  {
   "cell_type": "code",
   "execution_count": 23,
   "metadata": {},
   "outputs": [],
   "source": [
    "from bs4 import BeautifulSoup\n",
    "import os\n",
    "import requests\n",
    "\n",
    "# saving all data into the scenes folder\n",
    "base = 'data\\\\scenes'"
   ]
  },
  {
   "cell_type": "markdown",
   "metadata": {},
   "source": [
    "create a folder named the movie's name\n",
    "\n",
    "every image's name's format: movie'name (same with the folder's name)-Scene-scene number-cap number.jpg\n",
    "\n",
    "E.g\n",
    "toy_story-Scene-1-0.jpg\n",
    "\n",
    "toy_story-Scene-1-1.jpg\n",
    "\n",
    "toy_story-Scene-1-2.jpg"
   ]
  },
  {
   "cell_type": "code",
   "execution_count": 34,
   "metadata": {},
   "outputs": [],
   "source": [
    "cars_3_base = 'https://i1.wp.com/caps.pictures/201/7-cars3/full/cars3-disneyscreencaps.com-{num}.jpg?zoom=1.25&strip=all'"
   ]
  },
  {
   "cell_type": "code",
   "execution_count": 35,
   "metadata": {},
   "outputs": [],
   "source": [
    "scenes = [x*50+3 for x in range(30)]\n",
    "# *100 represent how many pics between each scene, range(10) 10 represent 30 scenes in total\n",
    "# +10 represent the begining of your first scene"
   ]
  },
  {
   "cell_type": "code",
   "execution_count": 36,
   "metadata": {},
   "outputs": [],
   "source": [
    "def scratch(movie_base, movie_name):\n",
    "    movie_dir = os.path.join(base, movie_name)\n",
    "    if os.path.isdir(movie_dir) == False:\n",
    "        os.mkdir(movie_dir)\n",
    "    for start_i in range(len(scenes)):\n",
    "        for i in range(3):\n",
    "            # 3 represent 3 caps per scene\n",
    "            img_index = scenes[start_i] + i\n",
    "            img_path = movie_base.format(num=img_index)\n",
    "            img_filename = movie_name + '-Scene-' + str(start_i) + '-' + str(i) + '.jpg'\n",
    "            out_file = os.path.join(movie_dir, img_filename)\n",
    "            temp = requests.get(img_path, out_file)\n",
    "            display(out_file)\n",
    "            if not os.path.exists(out_file):\n",
    "                with open(out_file, 'wb') as f:\n",
    "                    f.write(temp.content)"
   ]
  },
  {
   "cell_type": "code",
   "execution_count": 37,
   "metadata": {},
   "outputs": [
    {
     "data": {
      "text/plain": [
       "'data\\\\scenes\\\\cars_3\\\\cars_3-Scene-0-0.jpg'"
      ]
     },
     "metadata": {},
     "output_type": "display_data"
    },
    {
     "data": {
      "text/plain": [
       "'data\\\\scenes\\\\cars_3\\\\cars_3-Scene-0-1.jpg'"
      ]
     },
     "metadata": {},
     "output_type": "display_data"
    },
    {
     "data": {
      "text/plain": [
       "'data\\\\scenes\\\\cars_3\\\\cars_3-Scene-0-2.jpg'"
      ]
     },
     "metadata": {},
     "output_type": "display_data"
    },
    {
     "data": {
      "text/plain": [
       "'data\\\\scenes\\\\cars_3\\\\cars_3-Scene-1-0.jpg'"
      ]
     },
     "metadata": {},
     "output_type": "display_data"
    },
    {
     "data": {
      "text/plain": [
       "'data\\\\scenes\\\\cars_3\\\\cars_3-Scene-1-1.jpg'"
      ]
     },
     "metadata": {},
     "output_type": "display_data"
    },
    {
     "data": {
      "text/plain": [
       "'data\\\\scenes\\\\cars_3\\\\cars_3-Scene-1-2.jpg'"
      ]
     },
     "metadata": {},
     "output_type": "display_data"
    },
    {
     "data": {
      "text/plain": [
       "'data\\\\scenes\\\\cars_3\\\\cars_3-Scene-2-0.jpg'"
      ]
     },
     "metadata": {},
     "output_type": "display_data"
    },
    {
     "data": {
      "text/plain": [
       "'data\\\\scenes\\\\cars_3\\\\cars_3-Scene-2-1.jpg'"
      ]
     },
     "metadata": {},
     "output_type": "display_data"
    },
    {
     "data": {
      "text/plain": [
       "'data\\\\scenes\\\\cars_3\\\\cars_3-Scene-2-2.jpg'"
      ]
     },
     "metadata": {},
     "output_type": "display_data"
    },
    {
     "data": {
      "text/plain": [
       "'data\\\\scenes\\\\cars_3\\\\cars_3-Scene-3-0.jpg'"
      ]
     },
     "metadata": {},
     "output_type": "display_data"
    },
    {
     "data": {
      "text/plain": [
       "'data\\\\scenes\\\\cars_3\\\\cars_3-Scene-3-1.jpg'"
      ]
     },
     "metadata": {},
     "output_type": "display_data"
    },
    {
     "data": {
      "text/plain": [
       "'data\\\\scenes\\\\cars_3\\\\cars_3-Scene-3-2.jpg'"
      ]
     },
     "metadata": {},
     "output_type": "display_data"
    },
    {
     "data": {
      "text/plain": [
       "'data\\\\scenes\\\\cars_3\\\\cars_3-Scene-4-0.jpg'"
      ]
     },
     "metadata": {},
     "output_type": "display_data"
    },
    {
     "data": {
      "text/plain": [
       "'data\\\\scenes\\\\cars_3\\\\cars_3-Scene-4-1.jpg'"
      ]
     },
     "metadata": {},
     "output_type": "display_data"
    },
    {
     "data": {
      "text/plain": [
       "'data\\\\scenes\\\\cars_3\\\\cars_3-Scene-4-2.jpg'"
      ]
     },
     "metadata": {},
     "output_type": "display_data"
    },
    {
     "data": {
      "text/plain": [
       "'data\\\\scenes\\\\cars_3\\\\cars_3-Scene-5-0.jpg'"
      ]
     },
     "metadata": {},
     "output_type": "display_data"
    },
    {
     "data": {
      "text/plain": [
       "'data\\\\scenes\\\\cars_3\\\\cars_3-Scene-5-1.jpg'"
      ]
     },
     "metadata": {},
     "output_type": "display_data"
    },
    {
     "data": {
      "text/plain": [
       "'data\\\\scenes\\\\cars_3\\\\cars_3-Scene-5-2.jpg'"
      ]
     },
     "metadata": {},
     "output_type": "display_data"
    },
    {
     "data": {
      "text/plain": [
       "'data\\\\scenes\\\\cars_3\\\\cars_3-Scene-6-0.jpg'"
      ]
     },
     "metadata": {},
     "output_type": "display_data"
    },
    {
     "data": {
      "text/plain": [
       "'data\\\\scenes\\\\cars_3\\\\cars_3-Scene-6-1.jpg'"
      ]
     },
     "metadata": {},
     "output_type": "display_data"
    },
    {
     "data": {
      "text/plain": [
       "'data\\\\scenes\\\\cars_3\\\\cars_3-Scene-6-2.jpg'"
      ]
     },
     "metadata": {},
     "output_type": "display_data"
    },
    {
     "data": {
      "text/plain": [
       "'data\\\\scenes\\\\cars_3\\\\cars_3-Scene-7-0.jpg'"
      ]
     },
     "metadata": {},
     "output_type": "display_data"
    },
    {
     "data": {
      "text/plain": [
       "'data\\\\scenes\\\\cars_3\\\\cars_3-Scene-7-1.jpg'"
      ]
     },
     "metadata": {},
     "output_type": "display_data"
    },
    {
     "data": {
      "text/plain": [
       "'data\\\\scenes\\\\cars_3\\\\cars_3-Scene-7-2.jpg'"
      ]
     },
     "metadata": {},
     "output_type": "display_data"
    },
    {
     "data": {
      "text/plain": [
       "'data\\\\scenes\\\\cars_3\\\\cars_3-Scene-8-0.jpg'"
      ]
     },
     "metadata": {},
     "output_type": "display_data"
    },
    {
     "data": {
      "text/plain": [
       "'data\\\\scenes\\\\cars_3\\\\cars_3-Scene-8-1.jpg'"
      ]
     },
     "metadata": {},
     "output_type": "display_data"
    },
    {
     "data": {
      "text/plain": [
       "'data\\\\scenes\\\\cars_3\\\\cars_3-Scene-8-2.jpg'"
      ]
     },
     "metadata": {},
     "output_type": "display_data"
    },
    {
     "data": {
      "text/plain": [
       "'data\\\\scenes\\\\cars_3\\\\cars_3-Scene-9-0.jpg'"
      ]
     },
     "metadata": {},
     "output_type": "display_data"
    },
    {
     "data": {
      "text/plain": [
       "'data\\\\scenes\\\\cars_3\\\\cars_3-Scene-9-1.jpg'"
      ]
     },
     "metadata": {},
     "output_type": "display_data"
    },
    {
     "data": {
      "text/plain": [
       "'data\\\\scenes\\\\cars_3\\\\cars_3-Scene-9-2.jpg'"
      ]
     },
     "metadata": {},
     "output_type": "display_data"
    },
    {
     "data": {
      "text/plain": [
       "'data\\\\scenes\\\\cars_3\\\\cars_3-Scene-10-0.jpg'"
      ]
     },
     "metadata": {},
     "output_type": "display_data"
    },
    {
     "data": {
      "text/plain": [
       "'data\\\\scenes\\\\cars_3\\\\cars_3-Scene-10-1.jpg'"
      ]
     },
     "metadata": {},
     "output_type": "display_data"
    },
    {
     "data": {
      "text/plain": [
       "'data\\\\scenes\\\\cars_3\\\\cars_3-Scene-10-2.jpg'"
      ]
     },
     "metadata": {},
     "output_type": "display_data"
    },
    {
     "data": {
      "text/plain": [
       "'data\\\\scenes\\\\cars_3\\\\cars_3-Scene-11-0.jpg'"
      ]
     },
     "metadata": {},
     "output_type": "display_data"
    },
    {
     "data": {
      "text/plain": [
       "'data\\\\scenes\\\\cars_3\\\\cars_3-Scene-11-1.jpg'"
      ]
     },
     "metadata": {},
     "output_type": "display_data"
    },
    {
     "data": {
      "text/plain": [
       "'data\\\\scenes\\\\cars_3\\\\cars_3-Scene-11-2.jpg'"
      ]
     },
     "metadata": {},
     "output_type": "display_data"
    },
    {
     "data": {
      "text/plain": [
       "'data\\\\scenes\\\\cars_3\\\\cars_3-Scene-12-0.jpg'"
      ]
     },
     "metadata": {},
     "output_type": "display_data"
    },
    {
     "data": {
      "text/plain": [
       "'data\\\\scenes\\\\cars_3\\\\cars_3-Scene-12-1.jpg'"
      ]
     },
     "metadata": {},
     "output_type": "display_data"
    },
    {
     "data": {
      "text/plain": [
       "'data\\\\scenes\\\\cars_3\\\\cars_3-Scene-12-2.jpg'"
      ]
     },
     "metadata": {},
     "output_type": "display_data"
    },
    {
     "data": {
      "text/plain": [
       "'data\\\\scenes\\\\cars_3\\\\cars_3-Scene-13-0.jpg'"
      ]
     },
     "metadata": {},
     "output_type": "display_data"
    },
    {
     "data": {
      "text/plain": [
       "'data\\\\scenes\\\\cars_3\\\\cars_3-Scene-13-1.jpg'"
      ]
     },
     "metadata": {},
     "output_type": "display_data"
    },
    {
     "data": {
      "text/plain": [
       "'data\\\\scenes\\\\cars_3\\\\cars_3-Scene-13-2.jpg'"
      ]
     },
     "metadata": {},
     "output_type": "display_data"
    },
    {
     "data": {
      "text/plain": [
       "'data\\\\scenes\\\\cars_3\\\\cars_3-Scene-14-0.jpg'"
      ]
     },
     "metadata": {},
     "output_type": "display_data"
    },
    {
     "data": {
      "text/plain": [
       "'data\\\\scenes\\\\cars_3\\\\cars_3-Scene-14-1.jpg'"
      ]
     },
     "metadata": {},
     "output_type": "display_data"
    },
    {
     "data": {
      "text/plain": [
       "'data\\\\scenes\\\\cars_3\\\\cars_3-Scene-14-2.jpg'"
      ]
     },
     "metadata": {},
     "output_type": "display_data"
    },
    {
     "data": {
      "text/plain": [
       "'data\\\\scenes\\\\cars_3\\\\cars_3-Scene-15-0.jpg'"
      ]
     },
     "metadata": {},
     "output_type": "display_data"
    },
    {
     "data": {
      "text/plain": [
       "'data\\\\scenes\\\\cars_3\\\\cars_3-Scene-15-1.jpg'"
      ]
     },
     "metadata": {},
     "output_type": "display_data"
    },
    {
     "data": {
      "text/plain": [
       "'data\\\\scenes\\\\cars_3\\\\cars_3-Scene-15-2.jpg'"
      ]
     },
     "metadata": {},
     "output_type": "display_data"
    },
    {
     "data": {
      "text/plain": [
       "'data\\\\scenes\\\\cars_3\\\\cars_3-Scene-16-0.jpg'"
      ]
     },
     "metadata": {},
     "output_type": "display_data"
    },
    {
     "data": {
      "text/plain": [
       "'data\\\\scenes\\\\cars_3\\\\cars_3-Scene-16-1.jpg'"
      ]
     },
     "metadata": {},
     "output_type": "display_data"
    },
    {
     "data": {
      "text/plain": [
       "'data\\\\scenes\\\\cars_3\\\\cars_3-Scene-16-2.jpg'"
      ]
     },
     "metadata": {},
     "output_type": "display_data"
    },
    {
     "data": {
      "text/plain": [
       "'data\\\\scenes\\\\cars_3\\\\cars_3-Scene-17-0.jpg'"
      ]
     },
     "metadata": {},
     "output_type": "display_data"
    },
    {
     "data": {
      "text/plain": [
       "'data\\\\scenes\\\\cars_3\\\\cars_3-Scene-17-1.jpg'"
      ]
     },
     "metadata": {},
     "output_type": "display_data"
    },
    {
     "data": {
      "text/plain": [
       "'data\\\\scenes\\\\cars_3\\\\cars_3-Scene-17-2.jpg'"
      ]
     },
     "metadata": {},
     "output_type": "display_data"
    },
    {
     "data": {
      "text/plain": [
       "'data\\\\scenes\\\\cars_3\\\\cars_3-Scene-18-0.jpg'"
      ]
     },
     "metadata": {},
     "output_type": "display_data"
    },
    {
     "data": {
      "text/plain": [
       "'data\\\\scenes\\\\cars_3\\\\cars_3-Scene-18-1.jpg'"
      ]
     },
     "metadata": {},
     "output_type": "display_data"
    },
    {
     "data": {
      "text/plain": [
       "'data\\\\scenes\\\\cars_3\\\\cars_3-Scene-18-2.jpg'"
      ]
     },
     "metadata": {},
     "output_type": "display_data"
    },
    {
     "data": {
      "text/plain": [
       "'data\\\\scenes\\\\cars_3\\\\cars_3-Scene-19-0.jpg'"
      ]
     },
     "metadata": {},
     "output_type": "display_data"
    },
    {
     "data": {
      "text/plain": [
       "'data\\\\scenes\\\\cars_3\\\\cars_3-Scene-19-1.jpg'"
      ]
     },
     "metadata": {},
     "output_type": "display_data"
    },
    {
     "data": {
      "text/plain": [
       "'data\\\\scenes\\\\cars_3\\\\cars_3-Scene-19-2.jpg'"
      ]
     },
     "metadata": {},
     "output_type": "display_data"
    },
    {
     "data": {
      "text/plain": [
       "'data\\\\scenes\\\\cars_3\\\\cars_3-Scene-20-0.jpg'"
      ]
     },
     "metadata": {},
     "output_type": "display_data"
    },
    {
     "data": {
      "text/plain": [
       "'data\\\\scenes\\\\cars_3\\\\cars_3-Scene-20-1.jpg'"
      ]
     },
     "metadata": {},
     "output_type": "display_data"
    },
    {
     "data": {
      "text/plain": [
       "'data\\\\scenes\\\\cars_3\\\\cars_3-Scene-20-2.jpg'"
      ]
     },
     "metadata": {},
     "output_type": "display_data"
    },
    {
     "data": {
      "text/plain": [
       "'data\\\\scenes\\\\cars_3\\\\cars_3-Scene-21-0.jpg'"
      ]
     },
     "metadata": {},
     "output_type": "display_data"
    },
    {
     "data": {
      "text/plain": [
       "'data\\\\scenes\\\\cars_3\\\\cars_3-Scene-21-1.jpg'"
      ]
     },
     "metadata": {},
     "output_type": "display_data"
    },
    {
     "data": {
      "text/plain": [
       "'data\\\\scenes\\\\cars_3\\\\cars_3-Scene-21-2.jpg'"
      ]
     },
     "metadata": {},
     "output_type": "display_data"
    },
    {
     "data": {
      "text/plain": [
       "'data\\\\scenes\\\\cars_3\\\\cars_3-Scene-22-0.jpg'"
      ]
     },
     "metadata": {},
     "output_type": "display_data"
    },
    {
     "data": {
      "text/plain": [
       "'data\\\\scenes\\\\cars_3\\\\cars_3-Scene-22-1.jpg'"
      ]
     },
     "metadata": {},
     "output_type": "display_data"
    },
    {
     "data": {
      "text/plain": [
       "'data\\\\scenes\\\\cars_3\\\\cars_3-Scene-22-2.jpg'"
      ]
     },
     "metadata": {},
     "output_type": "display_data"
    },
    {
     "data": {
      "text/plain": [
       "'data\\\\scenes\\\\cars_3\\\\cars_3-Scene-23-0.jpg'"
      ]
     },
     "metadata": {},
     "output_type": "display_data"
    },
    {
     "data": {
      "text/plain": [
       "'data\\\\scenes\\\\cars_3\\\\cars_3-Scene-23-1.jpg'"
      ]
     },
     "metadata": {},
     "output_type": "display_data"
    },
    {
     "data": {
      "text/plain": [
       "'data\\\\scenes\\\\cars_3\\\\cars_3-Scene-23-2.jpg'"
      ]
     },
     "metadata": {},
     "output_type": "display_data"
    },
    {
     "data": {
      "text/plain": [
       "'data\\\\scenes\\\\cars_3\\\\cars_3-Scene-24-0.jpg'"
      ]
     },
     "metadata": {},
     "output_type": "display_data"
    },
    {
     "data": {
      "text/plain": [
       "'data\\\\scenes\\\\cars_3\\\\cars_3-Scene-24-1.jpg'"
      ]
     },
     "metadata": {},
     "output_type": "display_data"
    },
    {
     "data": {
      "text/plain": [
       "'data\\\\scenes\\\\cars_3\\\\cars_3-Scene-24-2.jpg'"
      ]
     },
     "metadata": {},
     "output_type": "display_data"
    },
    {
     "data": {
      "text/plain": [
       "'data\\\\scenes\\\\cars_3\\\\cars_3-Scene-25-0.jpg'"
      ]
     },
     "metadata": {},
     "output_type": "display_data"
    },
    {
     "data": {
      "text/plain": [
       "'data\\\\scenes\\\\cars_3\\\\cars_3-Scene-25-1.jpg'"
      ]
     },
     "metadata": {},
     "output_type": "display_data"
    },
    {
     "data": {
      "text/plain": [
       "'data\\\\scenes\\\\cars_3\\\\cars_3-Scene-25-2.jpg'"
      ]
     },
     "metadata": {},
     "output_type": "display_data"
    },
    {
     "data": {
      "text/plain": [
       "'data\\\\scenes\\\\cars_3\\\\cars_3-Scene-26-0.jpg'"
      ]
     },
     "metadata": {},
     "output_type": "display_data"
    },
    {
     "data": {
      "text/plain": [
       "'data\\\\scenes\\\\cars_3\\\\cars_3-Scene-26-1.jpg'"
      ]
     },
     "metadata": {},
     "output_type": "display_data"
    },
    {
     "data": {
      "text/plain": [
       "'data\\\\scenes\\\\cars_3\\\\cars_3-Scene-26-2.jpg'"
      ]
     },
     "metadata": {},
     "output_type": "display_data"
    },
    {
     "data": {
      "text/plain": [
       "'data\\\\scenes\\\\cars_3\\\\cars_3-Scene-27-0.jpg'"
      ]
     },
     "metadata": {},
     "output_type": "display_data"
    },
    {
     "data": {
      "text/plain": [
       "'data\\\\scenes\\\\cars_3\\\\cars_3-Scene-27-1.jpg'"
      ]
     },
     "metadata": {},
     "output_type": "display_data"
    },
    {
     "data": {
      "text/plain": [
       "'data\\\\scenes\\\\cars_3\\\\cars_3-Scene-27-2.jpg'"
      ]
     },
     "metadata": {},
     "output_type": "display_data"
    },
    {
     "data": {
      "text/plain": [
       "'data\\\\scenes\\\\cars_3\\\\cars_3-Scene-28-0.jpg'"
      ]
     },
     "metadata": {},
     "output_type": "display_data"
    },
    {
     "data": {
      "text/plain": [
       "'data\\\\scenes\\\\cars_3\\\\cars_3-Scene-28-1.jpg'"
      ]
     },
     "metadata": {},
     "output_type": "display_data"
    },
    {
     "data": {
      "text/plain": [
       "'data\\\\scenes\\\\cars_3\\\\cars_3-Scene-28-2.jpg'"
      ]
     },
     "metadata": {},
     "output_type": "display_data"
    },
    {
     "data": {
      "text/plain": [
       "'data\\\\scenes\\\\cars_3\\\\cars_3-Scene-29-0.jpg'"
      ]
     },
     "metadata": {},
     "output_type": "display_data"
    },
    {
     "data": {
      "text/plain": [
       "'data\\\\scenes\\\\cars_3\\\\cars_3-Scene-29-1.jpg'"
      ]
     },
     "metadata": {},
     "output_type": "display_data"
    },
    {
     "data": {
      "text/plain": [
       "'data\\\\scenes\\\\cars_3\\\\cars_3-Scene-29-2.jpg'"
      ]
     },
     "metadata": {},
     "output_type": "display_data"
    }
   ],
   "source": [
    "scratch(cars_3_base, 'cars_3')"
   ]
  },
  {
   "cell_type": "code",
   "execution_count": null,
   "metadata": {},
   "outputs": [],
   "source": []
  }
 ],
 "metadata": {
  "kernelspec": {
   "display_name": "Python 3",
   "language": "python",
   "name": "python3"
  },
  "language_info": {
   "codemirror_mode": {
    "name": "ipython",
    "version": 3
   },
   "file_extension": ".py",
   "mimetype": "text/x-python",
   "name": "python",
   "nbconvert_exporter": "python",
   "pygments_lexer": "ipython3",
   "version": "3.7.3"
  }
 },
 "nbformat": 4,
 "nbformat_minor": 2
}
