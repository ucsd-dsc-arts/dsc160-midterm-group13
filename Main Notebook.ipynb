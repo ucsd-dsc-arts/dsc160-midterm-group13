{
 "cells": [
  {
   "cell_type": "code",
   "execution_count": 8,
   "metadata": {},
   "outputs": [],
   "source": [
    "# import Section\n",
    "import numpy as np\n",
    "import pandas as pd\n",
    "import matplotlib.pyplot as plt\n",
    "import cv2"
   ]
  },
  {
   "cell_type": "code",
   "execution_count": 9,
   "metadata": {},
   "outputs": [],
   "source": [
    "# Function Section\n",
    "def calculate_pad(brightness, saturation):\n",
    "    p = 0.69*brightness + 0.22*saturation\n",
    "    a = -0.31*brightness + 0.6*saturation\n",
    "    d = 0.76*brightness + 0.32*saturation\n",
    "    \n",
    "def calculate_blur(img):\n",
    "    return cv2.Laplacian(img, cv2.CV_64F).var()\n",
    "\n",
    "def mean_brightness(img):\n",
    "    hsv = cv2.cvtColor(img, cv2.COLOR_BGR2HSV) #convert it to hsv\n",
    "    return np.mean(hsv[:,:,2])\n",
    "\n",
    "def mean_saturation(img):\n",
    "    hsv = cv2.cvtColor(img, cv2.COLOR_BGR2HSV) #convert it to hsv\n",
    "    return np.mean(hsv[:,:,1])\n",
    "\n"
   ]
  },
  {
   "cell_type": "code",
   "execution_count": 2,
   "metadata": {},
   "outputs": [],
   "source": [
    "# Data EDA"
   ]
  },
  {
   "cell_type": "code",
   "execution_count": 4,
   "metadata": {},
   "outputs": [],
   "source": [
    "# Model"
   ]
  },
  {
   "cell_type": "code",
   "execution_count": 5,
   "metadata": {},
   "outputs": [],
   "source": [
    "# Evaluation"
   ]
  }
 ],
 "metadata": {
  "kernelspec": {
   "display_name": "Python 3",
   "language": "python",
   "name": "python3"
  },
  "language_info": {
   "codemirror_mode": {
    "name": "ipython",
    "version": 3
   },
   "file_extension": ".py",
   "mimetype": "text/x-python",
   "name": "python",
   "nbconvert_exporter": "python",
   "pygments_lexer": "ipython3",
   "version": "3.7.3"
  }
 },
 "nbformat": 4,
 "nbformat_minor": 2
}
