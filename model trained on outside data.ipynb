{
 "cells": [
  {
   "cell_type": "code",
   "execution_count": 1,
   "metadata": {},
   "outputs": [],
   "source": [
    "import numpy as np\n",
    "import pandas as pd\n",
    "import matplotlib.pyplot as plt\n",
    "import cv2\n",
    "from os import listdir\n",
    "from os.path import isfile, join, isdir\n",
    "import re\n",
    "from matplotlib import pyplot as plt\n",
    "import seaborn as sns\n",
    "import glob\n",
    "import re\n",
    "from scipy.interpolate import interp1d\n",
    "from tqdm import tqdm, tqdm_notebook\n",
    "from scipy import spatial"
   ]
  },
  {
   "cell_type": "code",
   "execution_count": 2,
   "metadata": {},
   "outputs": [],
   "source": [
    "def calculate_pad(brightness, saturation):\n",
    "    p = 0.69*brightness + 0.22*saturation\n",
    "    a = -0.31*brightness + 0.6*saturation\n",
    "    d = 0.76*brightness + 0.32*saturation\n",
    "    return [p,a,d]\n",
    "\n",
    "def calculate_pad_scene(scene):\n",
    "    pads = []\n",
    "    for img in scene:\n",
    "        temp_b = mean_brightness(img)\n",
    "        temp_s = mean_saturation(img)\n",
    "        pads.append(calculate_pad(temp_b, temp_s))\n",
    "    return np.mean([x[0] for x in pads]), np.mean([x[1] for x in pads]), np.mean([x[2] for x in pads])\n",
    "\n",
    "def calculate_blur(img):\n",
    "    return cv2.Laplacian(img, cv2.CV_64F).var()\n",
    "\n",
    "def calculate_blur_scene(scene):\n",
    "    blurs = []\n",
    "    for img in scene:\n",
    "        blurs.append(calculate_blur(img))\n",
    "    return np.mean(blurs)\n",
    "\n",
    "def mean_brightness(img):\n",
    "    hsv = cv2.cvtColor(img, cv2.COLOR_BGR2HSV) #convert it to hsv\n",
    "    return np.mean(hsv[:,:,2])\n",
    "\n",
    "def mean_saturation(img):\n",
    "    hsv = cv2.cvtColor(img, cv2.COLOR_BGR2HSV) #convert it to hsv\n",
    "    return np.mean(hsv[:,:,1])\n",
    "\n",
    "def calculate_opticalFlow(img1, img2):\n",
    "    prev = cv2.cvtColor(img1, cv2.COLOR_BGR2GRAY)\n",
    "    forward = cv2.cvtColor(img2, cv2.COLOR_BGR2GRAY)\n",
    "    mask = np.zeros_like(prev)\n",
    "    mask[..., 1] = 255\n",
    "    flow = cv2.calcOpticalFlowFarneback(prev, forward, flow=None, pyr_scale=0.5,levels =1,winsize=3,iterations=15,poly_n=3,poly_sigma=5,flags=cv2.OPTFLOW_FARNEBACK_GAUSSIAN)\n",
    "    magnitude, angle = cv2.cartToPolar(flow[..., 0], flow[..., 1])\n",
    "    return cv2.normalize(magnitude, None, 0, 255, cv2.NORM_MINMAX)[0]\n",
    "\n",
    "def calculate_opticalFlow_scene(scene):\n",
    "    first = calculate_opticalFlow(scene[0], scene[1])\n",
    "    second = calculate_opticalFlow(scene[1], scene[2])\n",
    "    return np.mean([first, second])\n",
    "    \n",
    "def isjpg(filepath):\n",
    "    return re.search(\".jpg$\", filepath)\n",
    "\n",
    "def calculate_features(img_path):\n",
    "    img = cv2.imread(img_path)\n",
    "    b = "
   ]
  },
  {
   "cell_type": "code",
   "execution_count": null,
   "metadata": {},
   "outputs": [],
   "source": []
  }
 ],
 "metadata": {
  "kernelspec": {
   "display_name": "Python 3",
   "language": "python",
   "name": "python3"
  },
  "language_info": {
   "codemirror_mode": {
    "name": "ipython",
    "version": 3
   },
   "file_extension": ".py",
   "mimetype": "text/x-python",
   "name": "python",
   "nbconvert_exporter": "python",
   "pygments_lexer": "ipython3",
   "version": "3.7.3"
  }
 },
 "nbformat": 4,
 "nbformat_minor": 2
}
