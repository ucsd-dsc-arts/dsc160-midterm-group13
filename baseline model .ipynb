{
 "cells": [
  {
   "cell_type": "code",
   "execution_count": 6,
   "metadata": {},
   "outputs": [],
   "source": [
    "import numpy as np\n",
    "import pandas as pd\n",
    "import matplotlib.pyplot as plt\n",
    "import cv2\n",
    "from os import listdir\n",
    "from os.path import isfile, join, isdir\n",
    "import re\n",
    "from matplotlib import pyplot as plt\n",
    "import seaborn as sns\n",
    "import glob\n",
    "import re\n",
    "from scipy.interpolate import interp1d\n",
    "from tqdm import tqdm, tqdm_notebook\n",
    "from scipy import spatial"
   ]
  },
  {
   "cell_type": "code",
   "execution_count": 2,
   "metadata": {},
   "outputs": [],
   "source": [
    "def calculate_pad(brightness, saturation):\n",
    "    p = 0.69*brightness + 0.22*saturation\n",
    "    a = -0.31*brightness + 0.6*saturation\n",
    "    d = 0.76*brightness + 0.32*saturation\n",
    "    return [p,a,d]\n",
    "\n",
    "def calculate_pad_scene(scene):\n",
    "    pads = []\n",
    "    for img in scene:\n",
    "        temp_b = mean_brightness(img)\n",
    "        temp_s = mean_saturation(img)\n",
    "        pads.append(calculate_pad(temp_b, temp_s))\n",
    "    return np.mean([x[0] for x in pads]), np.mean([x[1] for x in pads]), np.mean([x[2] for x in pads])\n",
    "\n",
    "def calculate_blur(img):\n",
    "    return cv2.Laplacian(img, cv2.CV_64F).var()\n",
    "\n",
    "def calculate_blur_scene(scene):\n",
    "    blurs = []\n",
    "    for img in scene:\n",
    "        blurs.append(calculate_blur(img))\n",
    "    return np.mean(blurs)\n",
    "\n",
    "def mean_brightness(img):\n",
    "    hsv = cv2.cvtColor(img, cv2.COLOR_BGR2HSV) #convert it to hsv\n",
    "    return np.mean(hsv[:,:,2])\n",
    "\n",
    "def mean_saturation(img):\n",
    "    hsv = cv2.cvtColor(img, cv2.COLOR_BGR2HSV) #convert it to hsv\n",
    "    return np.mean(hsv[:,:,1])\n",
    "\n",
    "def calculate_opticalFlow(img1, img2):\n",
    "    prev = cv2.cvtColor(img1, cv2.COLOR_BGR2GRAY)\n",
    "    forward = cv2.cvtColor(img2, cv2.COLOR_BGR2GRAY)\n",
    "    mask = np.zeros_like(prev)\n",
    "    mask[..., 1] = 255\n",
    "    flow = cv2.calcOpticalFlowFarneback(prev, forward, flow=None, pyr_scale=0.5,levels =1,winsize=3,iterations=15,poly_n=3,poly_sigma=5,flags=cv2.OPTFLOW_FARNEBACK_GAUSSIAN)\n",
    "    magnitude, angle = cv2.cartToPolar(flow[..., 0], flow[..., 1])\n",
    "    return cv2.normalize(magnitude, None, 0, 255, cv2.NORM_MINMAX)[0]\n",
    "\n",
    "def calculate_opticalFlow_scene(scene):\n",
    "    first = calculate_opticalFlow(scene[0], scene[1])\n",
    "    second = calculate_opticalFlow(scene[1], scene[2])\n",
    "    return np.mean([first, second])\n",
    "    \n",
    "def isjpg(filepath):\n",
    "    return re.search(\".jpg$\", filepath)"
   ]
  },
  {
   "cell_type": "code",
   "execution_count": 5,
   "metadata": {},
   "outputs": [
    {
     "data": {
      "text/html": [
       "<div>\n",
       "<style scoped>\n",
       "    .dataframe tbody tr th:only-of-type {\n",
       "        vertical-align: middle;\n",
       "    }\n",
       "\n",
       "    .dataframe tbody tr th {\n",
       "        vertical-align: top;\n",
       "    }\n",
       "\n",
       "    .dataframe thead th {\n",
       "        text-align: right;\n",
       "    }\n",
       "</style>\n",
       "<table border=\"1\" class=\"dataframe\">\n",
       "  <thead>\n",
       "    <tr style=\"text-align: right;\">\n",
       "      <th></th>\n",
       "      <th>scene_name</th>\n",
       "      <th>scene_avg_p</th>\n",
       "      <th>scene_avg_a</th>\n",
       "      <th>scene_avg_d</th>\n",
       "      <th>scene_avg_blur</th>\n",
       "      <th>scene_avg_optical_flow</th>\n",
       "      <th>scene_movie</th>\n",
       "    </tr>\n",
       "  </thead>\n",
       "  <tbody>\n",
       "    <tr>\n",
       "      <th>0</th>\n",
       "      <td>big_hero_60</td>\n",
       "      <td>64.405538</td>\n",
       "      <td>72.981351</td>\n",
       "      <td>82.268261</td>\n",
       "      <td>204.102944</td>\n",
       "      <td>4.284929e-08</td>\n",
       "      <td>big_hero_6</td>\n",
       "    </tr>\n",
       "    <tr>\n",
       "      <th>1</th>\n",
       "      <td>big_hero_61</td>\n",
       "      <td>76.658546</td>\n",
       "      <td>45.019868</td>\n",
       "      <td>93.268124</td>\n",
       "      <td>2058.214860</td>\n",
       "      <td>4.400276e-02</td>\n",
       "      <td>big_hero_6</td>\n",
       "    </tr>\n",
       "    <tr>\n",
       "      <th>2</th>\n",
       "      <td>big_hero_610</td>\n",
       "      <td>93.844222</td>\n",
       "      <td>48.897762</td>\n",
       "      <td>113.486587</td>\n",
       "      <td>319.563208</td>\n",
       "      <td>7.499705e-03</td>\n",
       "      <td>big_hero_6</td>\n",
       "    </tr>\n",
       "    <tr>\n",
       "      <th>3</th>\n",
       "      <td>big_hero_611</td>\n",
       "      <td>104.689522</td>\n",
       "      <td>68.900088</td>\n",
       "      <td>128.197153</td>\n",
       "      <td>344.318350</td>\n",
       "      <td>3.311605e-06</td>\n",
       "      <td>big_hero_6</td>\n",
       "    </tr>\n",
       "    <tr>\n",
       "      <th>4</th>\n",
       "      <td>big_hero_612</td>\n",
       "      <td>52.825514</td>\n",
       "      <td>48.692155</td>\n",
       "      <td>66.235224</td>\n",
       "      <td>302.668920</td>\n",
       "      <td>1.479887e-03</td>\n",
       "      <td>big_hero_6</td>\n",
       "    </tr>\n",
       "  </tbody>\n",
       "</table>\n",
       "</div>"
      ],
      "text/plain": [
       "     scene_name  scene_avg_p  scene_avg_a  scene_avg_d  scene_avg_blur  \\\n",
       "0   big_hero_60    64.405538    72.981351    82.268261      204.102944   \n",
       "1   big_hero_61    76.658546    45.019868    93.268124     2058.214860   \n",
       "2  big_hero_610    93.844222    48.897762   113.486587      319.563208   \n",
       "3  big_hero_611   104.689522    68.900088   128.197153      344.318350   \n",
       "4  big_hero_612    52.825514    48.692155    66.235224      302.668920   \n",
       "\n",
       "   scene_avg_optical_flow scene_movie  \n",
       "0            4.284929e-08  big_hero_6  \n",
       "1            4.400276e-02  big_hero_6  \n",
       "2            7.499705e-03  big_hero_6  \n",
       "3            3.311605e-06  big_hero_6  \n",
       "4            1.479887e-03  big_hero_6  "
      ]
     },
     "execution_count": 5,
     "metadata": {},
     "output_type": "execute_result"
    }
   ],
   "source": [
    "df = pd.read_csv('clean_df.csv')\n",
    "df.head()"
   ]
  },
  {
   "cell_type": "code",
   "execution_count": 10,
   "metadata": {},
   "outputs": [],
   "source": [
    "df_pad = df[['scene_avg_p', 'scene_avg_a', 'scene_avg_d']]\n",
    "df_pad_norm = (df_pad - df_pad.min()) / (df_pad.max() - df_pad.min())"
   ]
  },
  {
   "cell_type": "code",
   "execution_count": 14,
   "metadata": {},
   "outputs": [
    {
     "data": {
      "text/plain": [
       "array([[ 0.76,  0.48,  0.35],\n",
       "       [ 0.4 ,  0.67, -0.13]])"
      ]
     },
     "execution_count": 14,
     "metadata": {},
     "output_type": "execute_result"
    }
   ],
   "source": [
    "ANGER_POINT = [-0.43, 0.67, 0.34]\n",
    "JOY_POINT = [0.76, 0.48, 0.35]\n",
    "SURPRISE_POINT = [0.4, 0.67, -0.13]\n",
    "DISGUST_POINT = [-0.6, 0.35, 0.11]\n",
    "FEAR_POINT = [-0.64, 0.6, -0.43]\n",
    "SADNESS_POINT = [-0.63, 0.27, -0.33]\n",
    "\n",
    "kdtree = spatial.cKDTree(np.array([ANGER_POINT,JOY_POINT,SURPRISE_POINT,DISGUST_POINT,FEAR_POINT,SADNESS_POINT]))\n",
    "mu = df_pad_norm.sample(1)\n",
    "dist, ix = kdtree.query([mu['scene_avg_p'].iloc[0],mu['scene_avg_a'].iloc[0],mu['scene_avg_d'].iloc[0]], k=2)\n",
    "kdtree.data[ix]"
   ]
  },
  {
   "cell_type": "code",
   "execution_count": null,
   "metadata": {},
   "outputs": [],
   "source": []
  }
 ],
 "metadata": {
  "kernelspec": {
   "display_name": "Python 3",
   "language": "python",
   "name": "python3"
  },
  "language_info": {
   "codemirror_mode": {
    "name": "ipython",
    "version": 3
   },
   "file_extension": ".py",
   "mimetype": "text/x-python",
   "name": "python",
   "nbconvert_exporter": "python",
   "pygments_lexer": "ipython3",
   "version": "3.7.3"
  }
 },
 "nbformat": 4,
 "nbformat_minor": 2
}
