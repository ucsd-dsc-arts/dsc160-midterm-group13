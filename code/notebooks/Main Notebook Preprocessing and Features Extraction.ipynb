{
 "cells": [
  {
   "cell_type": "code",
   "execution_count": 1,
   "metadata": {},
   "outputs": [],
   "source": [
    "# import Section\n",
    "import numpy as np\n",
    "import pandas as pd\n",
    "import matplotlib.pyplot as plt\n",
    "import cv2\n",
    "from os import listdir\n",
    "from os.path import isfile, join, isdir\n",
    "import re\n",
    "from matplotlib import pyplot as plt\n",
    "import seaborn as sns\n",
    "import glob\n",
    "import re\n",
    "from scipy.interpolate import interp1d\n",
    "from tqdm import tqdm, tqdm_notebook"
   ]
  },
  {
   "cell_type": "code",
   "execution_count": 2,
   "metadata": {},
   "outputs": [],
   "source": [
    "# Function Section\n",
    "def calculate_pad(brightness, saturation):\n",
    "    p = 0.69*brightness + 0.22*saturation\n",
    "    a = -0.31*brightness + 0.6*saturation\n",
    "    d = 0.76*brightness + 0.32*saturation\n",
    "    return [p,a,d]\n",
    "\n",
    "def calculate_pad_scene(scene):\n",
    "    pads = []\n",
    "    for img in scene:\n",
    "        temp_b = mean_brightness(img)\n",
    "        temp_s = mean_saturation(img)\n",
    "        pads.append(calculate_pad(temp_b, temp_s))\n",
    "    return np.mean([x[0] for x in pads]), np.mean([x[1] for x in pads]), np.mean([x[2] for x in pads])\n",
    "\n",
    "def calculate_blur(img):\n",
    "    return cv2.Laplacian(img, cv2.CV_64F).var()\n",
    "\n",
    "def calculate_blur_scene(scene):\n",
    "    blurs = []\n",
    "    for img in scene:\n",
    "        blurs.append(calculate_blur(img))\n",
    "    return np.mean(blurs)\n",
    "\n",
    "def mean_brightness(img):\n",
    "    hsv = cv2.cvtColor(img, cv2.COLOR_BGR2HSV) #convert it to hsv\n",
    "    return np.mean(hsv[:,:,2])\n",
    "\n",
    "def mean_saturation(img):\n",
    "    hsv = cv2.cvtColor(img, cv2.COLOR_BGR2HSV) #convert it to hsv\n",
    "    return np.mean(hsv[:,:,1])\n",
    "\n",
    "def calculate_opticalFlow(img1, img2):\n",
    "    prev = cv2.cvtColor(img1, cv2.COLOR_BGR2GRAY)\n",
    "    forward = cv2.cvtColor(img2, cv2.COLOR_BGR2GRAY)\n",
    "    mask = np.zeros_like(prev)\n",
    "    mask[..., 1] = 255\n",
    "    flow = cv2.calcOpticalFlowFarneback(prev, forward, flow=None, pyr_scale=0.5,levels =1,winsize=3,iterations=15,poly_n=3,poly_sigma=5,flags=cv2.OPTFLOW_FARNEBACK_GAUSSIAN)\n",
    "    magnitude, angle = cv2.cartToPolar(flow[..., 0], flow[..., 1])\n",
    "    return cv2.normalize(magnitude, None, 0, 255, cv2.NORM_MINMAX)[0]\n",
    "\n",
    "def calculate_opticalFlow_scene(scene):\n",
    "    first = calculate_opticalFlow(scene[0], scene[1])\n",
    "    second = calculate_opticalFlow(scene[1], scene[2])\n",
    "    return np.mean([first, second])\n",
    "    \n",
    "def isjpg(filepath):\n",
    "    return re.search(\".jpg$\", filepath)"
   ]
  },
  {
   "cell_type": "code",
   "execution_count": 8,
   "metadata": {},
   "outputs": [
    {
     "data": {
      "text/plain": [
       "['big_hero_6', 'cars_3', 'incredible_2', 'toy_story_4', 'up', 'wall_e_']"
      ]
     },
     "metadata": {},
     "output_type": "display_data"
    },
    {
     "data": {
      "text/plain": [
       "['data\\\\scenes\\\\big_hero_6',\n",
       " 'data\\\\scenes\\\\cars_3',\n",
       " 'data\\\\scenes\\\\incredible_2',\n",
       " 'data\\\\scenes\\\\toy_story_4',\n",
       " 'data\\\\scenes\\\\up',\n",
       " 'data\\\\scenes\\\\wall_e_']"
      ]
     },
     "metadata": {},
     "output_type": "display_data"
    },
    {
     "data": {
      "text/plain": [
       "[90, 90, 90, 90, 90, 90]"
      ]
     },
     "metadata": {},
     "output_type": "display_data"
    }
   ],
   "source": [
    "# constant\n",
    "base = 'data\\\\scenes'\n",
    "movies = [x for x in listdir(base) if isdir(join(base, x)) and x != 'incredibles_example' and x != 'faces']\n",
    "movies_paths = [join(base, x) for x in movies]\n",
    "display(movies)\n",
    "display(movies_paths)\n",
    "img_paths = {}\n",
    "for i in range(len(movies)):\n",
    "    movie = movies[i]\n",
    "    movie_path = movies_paths[i]\n",
    "    files = [join(movie_path, f) for f in listdir(movie_path) if isjpg(join(movie_path, f))]\n",
    "    img_paths[movie] = files\n",
    "display([len(x) for x in img_paths.values()])"
   ]
  },
  {
   "cell_type": "code",
   "execution_count": null,
   "metadata": {
    "scrolled": true
   },
   "outputs": [
    {
     "data": {
      "application/vnd.jupyter.widget-view+json": {
       "model_id": "b581e0399081484e91b73bc8bc74c491",
       "version_major": 2,
       "version_minor": 0
      },
      "text/plain": [
       "HBox(children=(IntProgress(value=0, max=6), HTML(value='')))"
      ]
     },
     "metadata": {},
     "output_type": "display_data"
    },
    {
     "data": {
      "text/plain": [
       "'preprocessing scenes in big_hero_6'"
      ]
     },
     "metadata": {},
     "output_type": "display_data"
    },
    {
     "data": {
      "application/vnd.jupyter.widget-view+json": {
       "model_id": "b31c848508b8462e866d08d18cb6c5c6",
       "version_major": 2,
       "version_minor": 0
      },
      "text/plain": [
       "HBox(children=(IntProgress(value=0, max=30), HTML(value='')))"
      ]
     },
     "metadata": {},
     "output_type": "display_data"
    },
    {
     "data": {
      "text/plain": [
       "'preprocessing scenes in cars_3'"
      ]
     },
     "metadata": {},
     "output_type": "display_data"
    },
    {
     "data": {
      "application/vnd.jupyter.widget-view+json": {
       "model_id": "231e7d12de714d3282f9a9fee073eb6e",
       "version_major": 2,
       "version_minor": 0
      },
      "text/plain": [
       "HBox(children=(IntProgress(value=0, max=30), HTML(value='')))"
      ]
     },
     "metadata": {},
     "output_type": "display_data"
    },
    {
     "data": {
      "text/plain": [
       "'preprocessing scenes in incredible_2'"
      ]
     },
     "metadata": {},
     "output_type": "display_data"
    },
    {
     "data": {
      "application/vnd.jupyter.widget-view+json": {
       "model_id": "b777e006f97e48a2a2e5db81386c2ca9",
       "version_major": 2,
       "version_minor": 0
      },
      "text/plain": [
       "HBox(children=(IntProgress(value=0, max=30), HTML(value='')))"
      ]
     },
     "metadata": {},
     "output_type": "display_data"
    },
    {
     "data": {
      "text/plain": [
       "'preprocessing scenes in toy_story_4'"
      ]
     },
     "metadata": {},
     "output_type": "display_data"
    },
    {
     "data": {
      "application/vnd.jupyter.widget-view+json": {
       "model_id": "4b3a7e424fa542a381ec2bc52f91ea9a",
       "version_major": 2,
       "version_minor": 0
      },
      "text/plain": [
       "HBox(children=(IntProgress(value=0, max=30), HTML(value='')))"
      ]
     },
     "metadata": {},
     "output_type": "display_data"
    },
    {
     "data": {
      "text/plain": [
       "'preprocessing scenes in up'"
      ]
     },
     "metadata": {},
     "output_type": "display_data"
    },
    {
     "data": {
      "application/vnd.jupyter.widget-view+json": {
       "model_id": "b0b1d4d5464149c386fa255bb801ec27",
       "version_major": 2,
       "version_minor": 0
      },
      "text/plain": [
       "HBox(children=(IntProgress(value=0, max=30), HTML(value='')))"
      ]
     },
     "metadata": {},
     "output_type": "display_data"
    },
    {
     "data": {
      "text/plain": [
       "'preprocessing scenes in wall_e_'"
      ]
     },
     "metadata": {},
     "output_type": "display_data"
    },
    {
     "data": {
      "application/vnd.jupyter.widget-view+json": {
       "model_id": "f351261450a94c109794e171e398562f",
       "version_major": 2,
       "version_minor": 0
      },
      "text/plain": [
       "HBox(children=(IntProgress(value=0, max=30), HTML(value='')))"
      ]
     },
     "metadata": {},
     "output_type": "display_data"
    }
   ],
   "source": [
    "# data preprocessing\n",
    "scene_names = []\n",
    "scene_avg_ps = []\n",
    "scene_avg_as = []\n",
    "scene_avg_ds = []\n",
    "scene_avg_blurs = []\n",
    "scene_avg_optical_flows = []\n",
    "scene_movies = []\n",
    "scene_paths = []\n",
    "for movie in tqdm_notebook(img_paths.keys()):\n",
    "    display('preprocessing scenes in {m}'.format(m = movie))\n",
    "    lst = img_paths[movie]\n",
    "    for i in tqdm_notebook(range(0, 90, 3)):\n",
    "        scene_num = lst[i][-8:-6].replace('-', '')\n",
    "        scene_names.append(movie + scene_num)\n",
    "        temp_imgs = []\n",
    "        flag = False\n",
    "        paths = []\n",
    "        for j in range(3):\n",
    "            img = cv2.imread(lst[i+j])\n",
    "            paths.append(lst[i+j])\n",
    "            if type(img) != type(None):\n",
    "                img = cv2.resize(img, (320, 768))\n",
    "                temp_imgs.append(img)\n",
    "            else:\n",
    "                flag = True\n",
    "        temp_pad = calculate_pad_scene(temp_imgs)\n",
    "        scene_avg_ps.append(temp_pad[0])\n",
    "        scene_avg_as.append(temp_pad[1])\n",
    "        scene_avg_ds.append(temp_pad[2])\n",
    "        scene_avg_blurs.append(calculate_blur_scene(temp_imgs))\n",
    "        scene_movies.append(movie)\n",
    "        scene_paths.append(paths)\n",
    "        if not flag:\n",
    "            scene_avg_optical_flows.append(calculate_opticalFlow_scene(temp_imgs))\n",
    "        else:\n",
    "            scene_avg_optical_flows.append(np.nan)"
   ]
  },
  {
   "cell_type": "code",
   "execution_count": null,
   "metadata": {},
   "outputs": [],
   "source": [
    "clean = pd.DataFrame()\n",
    "clean['scene_name'] = scene_names\n",
    "clean['scene_avg_p'] = scene_avg_ps\n",
    "clean['scene_avg_a'] = scene_avg_as\n",
    "clean['scene_avg_d'] = scene_avg_ds\n",
    "clean['scene_avg_blur'] = scene_avg_blurs\n",
    "clean['scene_avg_optical_flow'] = scene_avg_optical_flows\n",
    "clean['scene_movie'] = scene_movies\n",
    "clean['paths'] = scene_paths\n",
    "display(clean.shape)\n",
    "display(clean.head())\n",
    "clean.to_csv('clean_df.csv',  index=False)"
   ]
  },
  {
   "cell_type": "code",
   "execution_count": null,
   "metadata": {},
   "outputs": [],
   "source": []
  }
 ],
 "metadata": {
  "kernelspec": {
   "display_name": "Python 3",
   "language": "python",
   "name": "python3"
  },
  "language_info": {
   "codemirror_mode": {
    "name": "ipython",
    "version": 3
   },
   "file_extension": ".py",
   "mimetype": "text/x-python",
   "name": "python",
   "nbconvert_exporter": "python",
   "pygments_lexer": "ipython3",
   "version": "3.7.3"
  }
 },
 "nbformat": 4,
 "nbformat_minor": 2
}
