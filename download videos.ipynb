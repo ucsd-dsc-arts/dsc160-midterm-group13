{
 "cells": [
  {
   "cell_type": "code",
   "execution_count": 41,
   "metadata": {},
   "outputs": [],
   "source": [
    "import pytube\n",
    "# misc\n",
    "import os\n",
    "import shutil\n",
    "import math\n",
    "import datetime\n",
    "import matplotlib.pyplot as plt\n",
    "%matplotlib inline\n",
    "import cv2\n",
    "import numpy as np"
   ]
  },
  {
   "cell_type": "code",
   "execution_count": 28,
   "metadata": {},
   "outputs": [],
   "source": [
    "video = pytube.YouTube('https://www.youtube.com/watch?v=CPJWojKU_vw')"
   ]
  },
  {
   "cell_type": "code",
   "execution_count": 29,
   "metadata": {},
   "outputs": [],
   "source": [
    "video = video.streams.first()"
   ]
  },
  {
   "cell_type": "code",
   "execution_count": 31,
   "metadata": {},
   "outputs": [
    {
     "data": {
      "text/plain": [
       "'C:\\\\Users\\\\xinrui zhan\\\\dsc160\\\\dsc160-midterm-group13\\\\data\\\\From 1995 to 2019 the history of Pixar teaser trailers!.mp4'"
      ]
     },
     "execution_count": 31,
     "metadata": {},
     "output_type": "execute_result"
    }
   ],
   "source": [
    "video.download('data')"
   ]
  },
  {
   "cell_type": "code",
   "execution_count": 35,
   "metadata": {},
   "outputs": [],
   "source": [
    "cap = cv2.VideoCapture('data\\\\From 1995 to 2019 the history of Pixar teaser trailers!.mp4')"
   ]
  },
  {
   "cell_type": "code",
   "execution_count": 36,
   "metadata": {},
   "outputs": [
    {
     "data": {
      "text/plain": [
       "30.0"
      ]
     },
     "execution_count": 36,
     "metadata": {},
     "output_type": "execute_result"
    }
   ],
   "source": [
    "fps = cap.get(cv2.CAP_PROP_FPS)\n",
    "fps"
   ]
  },
  {
   "cell_type": "code",
   "execution_count": 44,
   "metadata": {},
   "outputs": [
    {
     "data": {
      "text/plain": [
       "[(240.0, 2940.0),\n",
       " (2940.0, 4710.0),\n",
       " (4710.0, 6630.0),\n",
       " (6630.0, 9810.0),\n",
       " (9810.0, 13320.0)]"
      ]
     },
     "execution_count": 44,
     "metadata": {},
     "output_type": "execute_result"
    }
   ],
   "source": [
    "timestamp = np.array([8, 98, 157, 221, 327, 444])\n",
    "timestart = timestamp * fps\n",
    "timeend = timestart[1:]\n",
    "timerange = [(timestart[i], timeend[i]) for i in range(5)]\n",
    "timerange"
   ]
  },
  {
   "cell_type": "code",
   "execution_count": 53,
   "metadata": {},
   "outputs": [],
   "source": [
    "movie_lst = ['Toy_Story', 'A_Bug_Life', \"Toy_Story_2\", 'Monster_Inc', 'Finding Nemo']\n",
    "movie_dir = []\n",
    "for movie in movie_lst:\n",
    "    new_dir = os.path.join('data', movie)\n",
    "    if not os.path.exists(new_dir):\n",
    "        os.mkdir(new_dir)\n",
    "    movie_dir.append(new_dir)"
   ]
  },
  {
   "cell_type": "code",
   "execution_count": 54,
   "metadata": {},
   "outputs": [],
   "source": [
    "for index in range(len(timerange)):\n",
    "    time_r = timerange[index]\n",
    "    for frame_index in range(int(time_r[0])-1, int(time_r[1])-1):\n",
    "        cap.set(1, frame_index)\n",
    "        ret, frame = cap.read()\n",
    "        path = os.path.join(movie_dir[index], '{x}.jpg'.format(x=frame_index-time_r[0]+1))\n",
    "        cv2.imwrite(path, frame)"
   ]
  },
  {
   "cell_type": "code",
   "execution_count": null,
   "metadata": {},
   "outputs": [],
   "source": []
  }
 ],
 "metadata": {
  "kernelspec": {
   "display_name": "Python 3",
   "language": "python",
   "name": "python3"
  },
  "language_info": {
   "codemirror_mode": {
    "name": "ipython",
    "version": 3
   },
   "file_extension": ".py",
   "mimetype": "text/x-python",
   "name": "python",
   "nbconvert_exporter": "python",
   "pygments_lexer": "ipython3",
   "version": "3.7.3"
  }
 },
 "nbformat": 4,
 "nbformat_minor": 2
}
