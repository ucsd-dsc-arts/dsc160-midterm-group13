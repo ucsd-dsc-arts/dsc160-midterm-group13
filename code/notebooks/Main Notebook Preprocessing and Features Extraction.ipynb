{
 "cells": [
  {
   "cell_type": "code",
   "execution_count": 20,
   "metadata": {},
   "outputs": [],
   "source": [
    "# import Section\n",
    "import numpy as np\n",
    "import pandas as pd\n",
    "import matplotlib.pyplot as plt\n",
    "import cv2\n",
    "from os import listdir\n",
    "from os.path import isfile, join, isdir\n",
    "import re\n",
    "from matplotlib import pyplot as plt\n",
    "import seaborn as sns\n",
    "import glob\n",
    "import re\n",
    "from scipy.interpolate import interp1d\n",
    "from tqdm import tqdm, tqdm_notebook"
   ]
  },
  {
   "cell_type": "code",
   "execution_count": 73,
   "metadata": {},
   "outputs": [],
   "source": [
    "# Function Section\n",
    "def calculate_pad(brightness, saturation):\n",
    "    p = 0.69*brightness + 0.22*saturation\n",
    "    a = -0.31*brightness + 0.6*saturation\n",
    "    d = 0.76*brightness + 0.32*saturation\n",
    "    return [p,a,d]\n",
    "\n",
    "def calculate_pad_scene(scene):\n",
    "    pads = []\n",
    "    for img in scene:\n",
    "        temp_b = mean_brightness(img)\n",
    "        temp_s = mean_saturation(img)\n",
    "        pads.append(calculate_pad(temp_b, temp_s))\n",
    "    return np.mean([x[0] for x in pads]), np.mean([x[1] for x in pads]), np.mean([x[2] for x in pads])\n",
    "\n",
    "def calculate_blur(img):\n",
    "    return cv2.Laplacian(img, cv2.CV_64F).var()\n",
    "\n",
    "def calculate_blur_scene(scene):\n",
    "    blurs = []\n",
    "    for img in scene:\n",
    "        blurs.append(calculate_blur(img))\n",
    "    return np.mean(blurs)\n",
    "\n",
    "def mean_brightness(img):\n",
    "    hsv = cv2.cvtColor(img, cv2.COLOR_BGR2HSV) #convert it to hsv\n",
    "    return np.mean(hsv[:,:,2])\n",
    "\n",
    "def mean_saturation(img):\n",
    "    hsv = cv2.cvtColor(img, cv2.COLOR_BGR2HSV) #convert it to hsv\n",
    "    return np.mean(hsv[:,:,1])\n",
    "\n",
    "def calculate_opticalFlow(img1, img2):\n",
    "    prev = cv2.cvtColor(img1, cv2.COLOR_BGR2GRAY)\n",
    "    forward = cv2.cvtColor(img2, cv2.COLOR_BGR2GRAY)\n",
    "    mask = np.zeros_like(prev)\n",
    "    mask[..., 1] = 255\n",
    "    flow = cv2.calcOpticalFlowFarneback(prev, forward, flow=None, pyr_scale=0.5,levels =1,winsize=3,iterations=15,poly_n=3,poly_sigma=5,flags=cv2.OPTFLOW_FARNEBACK_GAUSSIAN)\n",
    "    magnitude, angle = cv2.cartToPolar(flow[..., 0], flow[..., 1])\n",
    "    return cv2.normalize(magnitude, None, 0, 255, cv2.NORM_MINMAX)[0]\n",
    "\n",
    "def calculate_opticalFlow_scene(scene):\n",
    "    first = calculate_opticalFlow(scene[0], scene[1])\n",
    "    second = calculate_opticalFlow(scene[1], scene[2])\n",
    "    return np.mean([first, second])\n",
    "    \n",
    "def isjpg(filepath):\n",
    "    return re.search(\".jpg$\", filepath)"
   ]
  },
  {
   "cell_type": "code",
   "execution_count": 74,
   "metadata": {},
   "outputs": [
    {
     "data": {
      "text/plain": [
       "['big_hero_6', 'cars_3', 'incredible_2', 'toy_story_4', 'up', 'wall_e_']"
      ]
     },
     "metadata": {},
     "output_type": "display_data"
    },
    {
     "data": {
      "text/plain": [
       "['data\\\\scenes\\\\big_hero_6',\n",
       " 'data\\\\scenes\\\\cars_3',\n",
       " 'data\\\\scenes\\\\incredible_2',\n",
       " 'data\\\\scenes\\\\toy_story_4',\n",
       " 'data\\\\scenes\\\\up',\n",
       " 'data\\\\scenes\\\\wall_e_']"
      ]
     },
     "metadata": {},
     "output_type": "display_data"
    },
    {
     "data": {
      "text/plain": [
       "[90, 90, 90, 90, 90, 90]"
      ]
     },
     "metadata": {},
     "output_type": "display_data"
    }
   ],
   "source": [
    "# constant\n",
    "base = 'data\\\\scenes'\n",
    "movies = [x for x in listdir(base) if isdir(join(base, x)) and x != 'incredibles_example']\n",
    "movies_paths = [join(base, x) for x in movies]\n",
    "display(movies)\n",
    "display(movies_paths)\n",
    "img_paths = {}\n",
    "for i in range(len(movies)):\n",
    "    movie = movies[i]\n",
    "    movie_path = movies_paths[i]\n",
    "    files = [join(movie_path, f) for f in listdir(movie_path) if isjpg(join(movie_path, f))]\n",
    "    img_paths[movie] = files\n",
    "display([len(x) for x in img_paths.values()])"
   ]
  },
  {
   "cell_type": "code",
   "execution_count": 78,
   "metadata": {
    "scrolled": true
   },
   "outputs": [
    {
     "data": {
      "application/vnd.jupyter.widget-view+json": {
       "model_id": "4140fe12ff9a44938205005d6b8eed64",
       "version_major": 2,
       "version_minor": 0
      },
      "text/plain": [
       "HBox(children=(IntProgress(value=0, max=6), HTML(value='')))"
      ]
     },
     "metadata": {},
     "output_type": "display_data"
    },
    {
     "data": {
      "text/plain": [
       "'preprocessing scenes in big_hero_6'"
      ]
     },
     "metadata": {},
     "output_type": "display_data"
    },
    {
     "data": {
      "application/vnd.jupyter.widget-view+json": {
       "model_id": "727d5a69d7af40a295ed4691c2d9f2c1",
       "version_major": 2,
       "version_minor": 0
      },
      "text/plain": [
       "HBox(children=(IntProgress(value=0, max=30), HTML(value='')))"
      ]
     },
     "metadata": {},
     "output_type": "display_data"
    },
    {
     "data": {
      "text/plain": [
       "'preprocessing scenes in cars_3'"
      ]
     },
     "metadata": {},
     "output_type": "display_data"
    },
    {
     "data": {
      "application/vnd.jupyter.widget-view+json": {
       "model_id": "230ef7ae9c7442baa40e2414e1483c4d",
       "version_major": 2,
       "version_minor": 0
      },
      "text/plain": [
       "HBox(children=(IntProgress(value=0, max=30), HTML(value='')))"
      ]
     },
     "metadata": {},
     "output_type": "display_data"
    },
    {
     "data": {
      "text/plain": [
       "'preprocessing scenes in incredible_2'"
      ]
     },
     "metadata": {},
     "output_type": "display_data"
    },
    {
     "data": {
      "application/vnd.jupyter.widget-view+json": {
       "model_id": "f21d61ec4bce48ee9baba9082be7bcae",
       "version_major": 2,
       "version_minor": 0
      },
      "text/plain": [
       "HBox(children=(IntProgress(value=0, max=30), HTML(value='')))"
      ]
     },
     "metadata": {},
     "output_type": "display_data"
    },
    {
     "data": {
      "text/plain": [
       "'preprocessing scenes in toy_story_4'"
      ]
     },
     "metadata": {},
     "output_type": "display_data"
    },
    {
     "data": {
      "application/vnd.jupyter.widget-view+json": {
       "model_id": "a0859199d9c843a886f63b8bfd0faaaa",
       "version_major": 2,
       "version_minor": 0
      },
      "text/plain": [
       "HBox(children=(IntProgress(value=0, max=30), HTML(value='')))"
      ]
     },
     "metadata": {},
     "output_type": "display_data"
    },
    {
     "data": {
      "text/plain": [
       "'preprocessing scenes in up'"
      ]
     },
     "metadata": {},
     "output_type": "display_data"
    },
    {
     "data": {
      "application/vnd.jupyter.widget-view+json": {
       "model_id": "1d63abf43a3b48aca14af903ccbe563f",
       "version_major": 2,
       "version_minor": 0
      },
      "text/plain": [
       "HBox(children=(IntProgress(value=0, max=30), HTML(value='')))"
      ]
     },
     "metadata": {},
     "output_type": "display_data"
    },
    {
     "data": {
      "text/plain": [
       "'preprocessing scenes in wall_e_'"
      ]
     },
     "metadata": {},
     "output_type": "display_data"
    },
    {
     "data": {
      "application/vnd.jupyter.widget-view+json": {
       "model_id": "d61cfbbabe1c46ac89aeb3488015fb9b",
       "version_major": 2,
       "version_minor": 0
      },
      "text/plain": [
       "HBox(children=(IntProgress(value=0, max=30), HTML(value='')))"
      ]
     },
     "metadata": {},
     "output_type": "display_data"
    }
   ],
   "source": [
    "# data preprocessing\n",
    "scene_names = []\n",
    "scene_avg_ps = []\n",
    "scene_avg_as = []\n",
    "scene_avg_ds = []\n",
    "scene_avg_blurs = []\n",
    "scene_avg_optical_flows = []\n",
    "scene_movies = []\n",
    "\n",
    "for movie in tqdm_notebook(img_paths.keys()):\n",
    "    display('preprocessing scenes in {m}'.format(m = movie))\n",
    "    lst = img_paths[movie]\n",
    "    for i in tqdm_notebook(range(0, 90, 3)):\n",
    "        scene_num = lst[i][-8:-6].replace('-', '')\n",
    "        scene_names.append(movie + scene_num)\n",
    "        temp_imgs = []\n",
    "        flag = False\n",
    "        for j in range(3):\n",
    "            img = cv2.imread(lst[i+j])\n",
    "            if type(img) != type(None):\n",
    "                img = cv2.resize(img, (320, 768))\n",
    "                temp_imgs.append(img)\n",
    "            else:\n",
    "                flag = True\n",
    "        temp_pad = calculate_pad_scene(temp_imgs)\n",
    "        scene_avg_ps.append(temp_pad[0])\n",
    "        scene_avg_as.append(temp_pad[1])\n",
    "        scene_avg_ds.append(temp_pad[2])\n",
    "        scene_avg_blurs.append(calculate_blur_scene(temp_imgs))\n",
    "        scene_movies.append(movie)\n",
    "        if not flag:\n",
    "            scene_avg_optical_flows.append(calculate_opticalFlow_scene(temp_imgs))\n",
    "        else:\n",
    "            scene_avg_optical_flows.append(np.nan)"
   ]
  },
  {
   "cell_type": "code",
   "execution_count": 83,
   "metadata": {},
   "outputs": [
    {
     "data": {
      "text/plain": [
       "(180, 7)"
      ]
     },
     "metadata": {},
     "output_type": "display_data"
    },
    {
     "data": {
      "text/html": [
       "<div>\n",
       "<style scoped>\n",
       "    .dataframe tbody tr th:only-of-type {\n",
       "        vertical-align: middle;\n",
       "    }\n",
       "\n",
       "    .dataframe tbody tr th {\n",
       "        vertical-align: top;\n",
       "    }\n",
       "\n",
       "    .dataframe thead th {\n",
       "        text-align: right;\n",
       "    }\n",
       "</style>\n",
       "<table border=\"1\" class=\"dataframe\">\n",
       "  <thead>\n",
       "    <tr style=\"text-align: right;\">\n",
       "      <th></th>\n",
       "      <th>scene_name</th>\n",
       "      <th>scene_avg_p</th>\n",
       "      <th>scene_avg_a</th>\n",
       "      <th>scene_avg_d</th>\n",
       "      <th>scene_avg_blur</th>\n",
       "      <th>scene_avg_optical_flow</th>\n",
       "      <th>scene_movie</th>\n",
       "    </tr>\n",
       "  </thead>\n",
       "  <tbody>\n",
       "    <tr>\n",
       "      <th>0</th>\n",
       "      <td>big_hero_60</td>\n",
       "      <td>64.405538</td>\n",
       "      <td>72.981351</td>\n",
       "      <td>82.268261</td>\n",
       "      <td>204.102944</td>\n",
       "      <td>4.284929e-08</td>\n",
       "      <td>big_hero_6</td>\n",
       "    </tr>\n",
       "    <tr>\n",
       "      <th>1</th>\n",
       "      <td>big_hero_61</td>\n",
       "      <td>76.658546</td>\n",
       "      <td>45.019868</td>\n",
       "      <td>93.268124</td>\n",
       "      <td>2058.214860</td>\n",
       "      <td>4.400276e-02</td>\n",
       "      <td>big_hero_6</td>\n",
       "    </tr>\n",
       "    <tr>\n",
       "      <th>2</th>\n",
       "      <td>big_hero_610</td>\n",
       "      <td>93.844222</td>\n",
       "      <td>48.897762</td>\n",
       "      <td>113.486587</td>\n",
       "      <td>319.563208</td>\n",
       "      <td>7.499705e-03</td>\n",
       "      <td>big_hero_6</td>\n",
       "    </tr>\n",
       "    <tr>\n",
       "      <th>3</th>\n",
       "      <td>big_hero_611</td>\n",
       "      <td>104.689522</td>\n",
       "      <td>68.900088</td>\n",
       "      <td>128.197153</td>\n",
       "      <td>344.318350</td>\n",
       "      <td>3.311605e-06</td>\n",
       "      <td>big_hero_6</td>\n",
       "    </tr>\n",
       "    <tr>\n",
       "      <th>4</th>\n",
       "      <td>big_hero_612</td>\n",
       "      <td>52.825514</td>\n",
       "      <td>48.692155</td>\n",
       "      <td>66.235224</td>\n",
       "      <td>302.668920</td>\n",
       "      <td>1.479887e-03</td>\n",
       "      <td>big_hero_6</td>\n",
       "    </tr>\n",
       "  </tbody>\n",
       "</table>\n",
       "</div>"
      ],
      "text/plain": [
       "     scene_name  scene_avg_p  scene_avg_a  scene_avg_d  scene_avg_blur  \\\n",
       "0   big_hero_60    64.405538    72.981351    82.268261      204.102944   \n",
       "1   big_hero_61    76.658546    45.019868    93.268124     2058.214860   \n",
       "2  big_hero_610    93.844222    48.897762   113.486587      319.563208   \n",
       "3  big_hero_611   104.689522    68.900088   128.197153      344.318350   \n",
       "4  big_hero_612    52.825514    48.692155    66.235224      302.668920   \n",
       "\n",
       "   scene_avg_optical_flow scene_movie  \n",
       "0            4.284929e-08  big_hero_6  \n",
       "1            4.400276e-02  big_hero_6  \n",
       "2            7.499705e-03  big_hero_6  \n",
       "3            3.311605e-06  big_hero_6  \n",
       "4            1.479887e-03  big_hero_6  "
      ]
     },
     "metadata": {},
     "output_type": "display_data"
    }
   ],
   "source": [
    "clean = pd.DataFrame()\n",
    "clean['scene_name'] = scene_names\n",
    "clean['scene_avg_p'] = scene_avg_ps\n",
    "clean['scene_avg_a'] = scene_avg_as\n",
    "clean['scene_avg_d'] = scene_avg_ds\n",
    "clean['scene_avg_blur'] = scene_avg_blurs\n",
    "clean['scene_avg_optical_flow'] = scene_avg_optical_flows\n",
    "clean['scene_movie'] = scene_movies\n",
    "display(clean.shape)\n",
    "display(clean.head())\n",
    "clean.to_csv('clean_df.csv',  index=False)"
   ]
  }
 ],
 "metadata": {
  "kernelspec": {
   "display_name": "Python 3",
   "language": "python",
   "name": "python3"
  },
  "language_info": {
   "codemirror_mode": {
    "name": "ipython",
    "version": 3
   },
   "file_extension": ".py",
   "mimetype": "text/x-python",
   "name": "python",
   "nbconvert_exporter": "python",
   "pygments_lexer": "ipython3",
   "version": "3.7.3"
  }
 },
 "nbformat": 4,
 "nbformat_minor": 2
}
