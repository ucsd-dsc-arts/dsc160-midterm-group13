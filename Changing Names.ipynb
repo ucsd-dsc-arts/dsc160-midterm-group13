{
 "cells": [
  {
   "cell_type": "code",
   "execution_count": 1,
   "metadata": {},
   "outputs": [],
   "source": [
    "import os"
   ]
  },
  {
   "cell_type": "code",
   "execution_count": 12,
   "metadata": {},
   "outputs": [],
   "source": [
    "up_base = 'data\\\\scenes\\\\up'\n",
    "incredibles_base = 'data\\\\scenes\\\\incredibles'\n",
    "toy_story_4_base = 'data\\\\scenes\\\\toy_story_4'"
   ]
  },
  {
   "cell_type": "code",
   "execution_count": 41,
   "metadata": {},
   "outputs": [],
   "source": [
    "up = os.listdir(up_base)\n",
    "inc = os.listdir(incredibles_base)\n",
    "toy = os.listdir(toy_story_4_base)"
   ]
  },
  {
   "cell_type": "code",
   "execution_count": 14,
   "metadata": {},
   "outputs": [
    {
     "data": {
      "text/plain": [
       "'toy_story-Scene-001-01.jpg'"
      ]
     },
     "execution_count": 14,
     "metadata": {},
     "output_type": "execute_result"
    }
   ],
   "source": [
    "up[1]"
   ]
  },
  {
   "cell_type": "code",
   "execution_count": 39,
   "metadata": {},
   "outputs": [],
   "source": [
    "old = os.path.join(toy_story_4_base, up[1])"
   ]
  },
  {
   "cell_type": "code",
   "execution_count": 33,
   "metadata": {},
   "outputs": [],
   "source": [
    "name = up[1][:-4]\n",
    "name = name[:-6] + str(int(name[-6:-3])) + name[-3] + str(int(name[-2:]))\n",
    "name = name + '.jpg'"
   ]
  },
  {
   "cell_type": "code",
   "execution_count": 40,
   "metadata": {},
   "outputs": [],
   "source": [
    "os.rename(old, os.path.join(toy_story_4_base, name)) "
   ]
  },
  {
   "cell_type": "code",
   "execution_count": 43,
   "metadata": {},
   "outputs": [],
   "source": [
    "for img in toy:\n",
    "    old = os.path.join(toy_story_4_base, img)\n",
    "    if img[-4:] == '.jpg':\n",
    "        img = img[:-4]\n",
    "        img = img[:-6] + str(int(img[-6:-3])) + img[-3] + str(int(img[-2:]))\n",
    "        img = img + '.jpg'\n",
    "        os.rename(old, os.path.join(toy_story_4_base, img)) "
   ]
  },
  {
   "cell_type": "code",
   "execution_count": 44,
   "metadata": {},
   "outputs": [],
   "source": [
    "for img in up:\n",
    "    old = os.path.join(up_base, img)\n",
    "    if img[-4:] == '.jpg':\n",
    "        img = img[:-4]\n",
    "        img = img[:-6] + str(int(img[-6:-3])) + img[-3] + str(int(img[-2:]))\n",
    "        img = img + '.jpg'\n",
    "        os.rename(old, os.path.join(up_base, img)) "
   ]
  },
  {
   "cell_type": "code",
   "execution_count": 45,
   "metadata": {},
   "outputs": [],
   "source": [
    "for img in inc:\n",
    "    old = os.path.join(incredibles_base, img)\n",
    "    if img[-4:] == '.jpg':\n",
    "        img = img[:-4]\n",
    "        img = img[:-6] + str(int(img[-6:-3])) + img[-3] + str(int(img[-2:]))\n",
    "        img = img + '.jpg'\n",
    "        os.rename(old, os.path.join(incredibles_base, img)) "
   ]
  },
  {
   "cell_type": "code",
   "execution_count": null,
   "metadata": {},
   "outputs": [],
   "source": []
  }
 ],
 "metadata": {
  "kernelspec": {
   "display_name": "Python 3",
   "language": "python",
   "name": "python3"
  },
  "language_info": {
   "codemirror_mode": {
    "name": "ipython",
    "version": 3
   },
   "file_extension": ".py",
   "mimetype": "text/x-python",
   "name": "python",
   "nbconvert_exporter": "python",
   "pygments_lexer": "ipython3",
   "version": "3.7.3"
  }
 },
 "nbformat": 4,
 "nbformat_minor": 2
}
